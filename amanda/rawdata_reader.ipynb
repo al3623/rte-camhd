{
 "cells": [
  {
   "cell_type": "code",
   "execution_count": null,
   "metadata": {},
   "outputs": [],
   "source": [
    "'''import urllib.request as url\n",
    "#dir_root = \"https://rawdata.oceanobservatories.org/files/RS03ASHS/PN03B/06-CAMHDA301/\";\n",
    "#years = [\"2015\",\"2016\", \"2017\", \"2018\"];\n",
    "#months = [\"01\",\"02\",\"03\",\"04\",\"05\",\"06\",\"07\",\"08\",\"09\",\"10\",\"11\",\"12\"];\n",
    "#days = [\"01\",\"02\",\"03\",\"04\",\"05\",\"06\",\"07\",\"08\",\"09\",\"10\",\"11\",\"12\",\n",
    "#       \"13\",\"14\",\"15\",\"16\",\"17\",\"18\",\"19\",\"20\",\"21\",\"22\",\n",
    "#       \"23\",\"24\",\"25\",\"26\",\"27\",\"28\",\"29\",\"30\",\"31\"];\n",
    "#test_URL = dir_root + years[2] + \"/\" + months[3] + \"/\" + days[9];\n",
    "#page = url.urlopen(test_URL);\n",
    "\n",
    "#html = page.read();\n",
    "\n",
    "frame_numbers = range(0,4000, 100);\n",
    "mov_file = \"https://rawdata.oceanobservatories.org/files/RS03ASHS/PN03B/06-CAMHDA301/2017/04/10/CAMHDA301-20170410T001500.mov\";\n",
    "frame = ca"
   ]
  },
  {
   "cell_type": "code",
   "execution_count": 2,
   "metadata": {},
   "outputs": [],
   "source": [
    "%matplotlib inline\n",
    "import pycamhd.pycamhd as camhd\n",
    "import numpy as np\n",
    "import matplotlib.pyplot as plt\n",
    "import xarray as xar\n",
    "import urllib as url\n",
    "\n",
    "logLink = \"https://rawdata.oceanobservatories.org/files/RS03ASHS/PN03B/06-CAMHDA301/2017/03/12/CAMHDA301-20170312T000000.log\"\n",
    "movLink = \"https://rawdata.oceanobservatories.org/files/RS03ASHS/PN03B/06-CAMHDA301/2017/03/12/CAMHDA301-20170312T181500.mov\""
   ]
  },
  {
   "cell_type": "code",
   "execution_count": 9,
   "metadata": {},
   "outputs": [
    {
     "name": "stdout",
     "output_type": "stream",
     "text": [
      "\n",
      "[1489276817, 1489276834, 1489276842, 1489276855, 1489276865, 1489276890, 1489276905, 1489276913, 1489276954, 1489276955, 1489276970, 1489276971, 1489276985, 1489276998, 1489277010, 1489277064, 1489277065, 1489277079, 1489277084, 1489277098, 1489277111, 1489277123, 1489277172, 1489277173, 1489277187, 1489277192, 1489277203, 1489277216, 1489277229, 1489277276, 1489277277, 1489277288, 1489277295, 1489277305, 1489277318, 1489277330, 1489277376, 1489277377, 1489277387, 1489277393, 1489277405, 1489277418, 1489277469, 1489277470, 1489277476, 1489277492, 1489277505, 1489277544, 1489277545, 1489277561, 1489277566, 1489277578, 1489277589, 1489277632, 1489277637, 1489277649, 1489277656, 1489277667, 1489277672]\n",
      "59\n"
     ]
    }
   ],
   "source": [
    "movAtom = camhd.get_moov_atom(movLink)\n",
    "frames = camhd.get_frame_count(movLink, movAtom)\n",
    "FPS = 30\n",
    "#print(\"Total Frames: \" + str(frames))             26983\n",
    "\n",
    "logFile = url.request.urlopen(logLink)\n",
    "logList = logFile.readlines()\n",
    "\n",
    "sceneTimes = []\n",
    "inMotion = False\n",
    "#startTime = 1489276817\n",
    "#endTime = 1489277672\n",
    "#print(endTime - startTime)                        855\n",
    "                     \n",
    "index = 0;\n",
    "\n",
    "while index < len(logList):\n",
    "    line = logList[index]\n",
    "    index+=1\n",
    "    if (line[0] == ord('>')):\n",
    "        line = line[1:]\n",
    "    \n",
    "    if \"STOPPED:\" in str(line):\n",
    "        if inMotion:\n",
    "            inMotion = False\n",
    "        \n",
    "    if \"time\" in str(line) and not inMotion:\n",
    "        fullLine = str(line)\n",
    "        timeSubstring = fullLine[fullLine.index(\"time\"):]\n",
    "        if \":\" not in timeSubstring:\n",
    "            break;\n",
    "        timeSubstring = timeSubstring[timeSubstring.index(\":\") + 2:]\n",
    "        if \"}\" in timeSubstring:\n",
    "            timeSubstring = timeSubstring[0:timeSubstring.index(\"}\")]\n",
    "        if \",\" in timeSubstring:\n",
    "            timeSubstring = timeSubstring[:timeSubstring.index(\",\")]\n",
    "        timeSubstring = timeSubstring[:10]\n",
    "        if int(timeSubstring) not in sceneTimes:\n",
    "            sceneTimes.append(int(timeSubstring))\n",
    "    \n",
    "    if \"INMOTION:\" in str(line):\n",
    "        inMotion = True\n",
    "        \n",
    "    if \"STARTED:\" in str(line):\n",
    "        print()\n",
    "        \n",
    "index+=1\n",
    "while index < len(logList):\n",
    "    line = logList[index]\n",
    "    index+=1\n",
    "    if (line[0] == ord('>')):\n",
    "        line = line[1:]\n",
    "    \n",
    "    if \"STOPPED:\" in str(line):\n",
    "        if inMotion:\n",
    "            inMotion = False\n",
    "        \n",
    "    if \"time\" in str(line) and not inMotion:\n",
    "        fullLine = str(line)\n",
    "        timeSubstring = fullLine[fullLine.index(\"time\"):]\n",
    "        if \":\" not in timeSubstring:\n",
    "            break;\n",
    "        timeSubstring = timeSubstring[timeSubstring.index(\":\") + 2:]\n",
    "        if \"}\" in timeSubstring:\n",
    "            timeSubstring = timeSubstring[0:timeSubstring.index(\"}\")]\n",
    "        if \",\" in timeSubstring:\n",
    "            timeSubstring = timeSubstring[:timeSubstring.index(\",\")]\n",
    "        timeSubstring = timeSubstring[:10]\n",
    "        if int(timeSubstring) not in sceneTimes:\n",
    "            sceneTimes.append(int(timeSubstring))\n",
    "    \n",
    "    if \"INMOTION:\" in str(line):\n",
    "        inMotion = True\n",
    "        \n",
    "    if \"STARTED:\" in str(line):\n",
    "        print()\n",
    "\n",
    "print(sceneTimes)"
   ]
  },
  {
   "cell_type": "code",
   "execution_count": null,
   "metadata": {},
   "outputs": [],
   "source": [
    "frame = camhd.get_frame(movlink, 2640, 'rgb24')\n",
    "fig, ax = plt.subplots()\n",
    "im1 = ax.imshow(frame)"
   ]
  },
  {
   "cell_type": "code",
   "execution_count": null,
   "metadata": {},
   "outputs": [],
   "source": []
  },
  {
   "cell_type": "code",
   "execution_count": null,
   "metadata": {},
   "outputs": [],
   "source": []
  }
 ],
 "metadata": {
  "kernelspec": {
   "display_name": "Python [conda root]",
   "language": "python",
   "name": "conda-root-py"
  },
  "language_info": {
   "codemirror_mode": {
    "name": "ipython",
    "version": 3
   },
   "file_extension": ".py",
   "mimetype": "text/x-python",
   "name": "python",
   "nbconvert_exporter": "python",
   "pygments_lexer": "ipython3",
   "version": "3.6.4"
  }
 },
 "nbformat": 4,
 "nbformat_minor": 2
}
