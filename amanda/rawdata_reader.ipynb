{
 "cells": [
  {
   "cell_type": "code",
   "execution_count": null,
   "metadata": {},
   "outputs": [],
   "source": [
    "'''import urllib.request as url\n",
    "#dir_root = \"https://rawdata.oceanobservatories.org/files/RS03ASHS/PN03B/06-CAMHDA301/\";\n",
    "#years = [\"2015\",\"2016\", \"2017\", \"2018\"];\n",
    "#months = [\"01\",\"02\",\"03\",\"04\",\"05\",\"06\",\"07\",\"08\",\"09\",\"10\",\"11\",\"12\"];\n",
    "#days = [\"01\",\"02\",\"03\",\"04\",\"05\",\"06\",\"07\",\"08\",\"09\",\"10\",\"11\",\"12\",\n",
    "#       \"13\",\"14\",\"15\",\"16\",\"17\",\"18\",\"19\",\"20\",\"21\",\"22\",\n",
    "#       \"23\",\"24\",\"25\",\"26\",\"27\",\"28\",\"29\",\"30\",\"31\"];\n",
    "#test_URL = dir_root + years[2] + \"/\" + months[3] + \"/\" + days[9];\n",
    "#page = url.urlopen(test_URL);\n",
    "\n",
    "#html = page.read();\n",
    "\n",
    "frame_numbers = range(0,4000, 100);\n",
    "mov_file = \"https://rawdata.oceanobservatories.org/files/RS03ASHS/PN03B/06-CAMHDA301/2017/04/10/CAMHDA301-20170410T001500.mov\";\n",
    "frame = ca"
   ]
  },
  {
   "cell_type": "code",
   "execution_count": 14,
   "metadata": {},
   "outputs": [],
   "source": [
    "%matplotlib inline\n",
    "import pycamhd.pycamhd as camhd\n",
    "import numpy as np\n",
    "import matplotlib.pyplot as plt\n",
    "import xarray as xar\n",
    "import urllib as url\n",
    "\n",
    "logLink = \"https://rawdata.oceanobservatories.org/files/RS03ASHS/PN03B/06-CAMHDA301/2017/03/12/CAMHDA301-20170312T000000.log\"\n",
    "movLink = \"https://rawdata.oceanobservatories.org/files/RS03ASHS/PN03B/06-CAMHDA301/2017/03/12/CAMHDA301-20170312T181500.mov\""
   ]
  },
  {
   "cell_type": "code",
   "execution_count": 17,
   "metadata": {},
   "outputs": [],
   "source": [
    "movAtom = camhd.get_moov_atom(movLink)\n",
    "frames = camhd.get_frame_count(movLink, movAtom)\n",
    "FPS = 30\n",
    "#print(\"Total Frames: \" + str(frames))             26983\n",
    "\n",
    "logFile = url.request.urlopen(logLink)\n",
    "logList = logFile.readlines()\n",
    "\n",
    "sceneTimes = []\n",
    "inMotion = False\n",
    "timeSubstring = \"\"\n",
    "startTime = 0\n",
    "endTime = 0\n",
    "#print(endTime - startTime)                        855\n",
    "                     \n",
    "index = 0;\n",
    "\n",
    "while index < len(logList):\n",
    "    line = logList[index]\n",
    "    index+=1\n",
    "    if (line[0] == ord('>')):\n",
    "        line = line[1:]\n",
    "    \n",
    "    if \"STOPPED:\" in str(line):\n",
    "        if inMotion:\n",
    "            inMotion = False\n",
    "        \n",
    "    if \"time\" in str(line) and not inMotion:\n",
    "        fullLine = str(line)\n",
    "        timeSubstring = fullLine[fullLine.index(\"time\"):]\n",
    "        if \":\" not in timeSubstring:\n",
    "            break;\n",
    "        timeSubstring = timeSubstring[timeSubstring.index(\":\") + 2:]\n",
    "        if \"}\" in timeSubstring:\n",
    "            timeSubstring = timeSubstring[0:timeSubstring.index(\"}\")]\n",
    "        if \",\" in timeSubstring:\n",
    "            timeSubstring = timeSubstring[:timeSubstring.index(\",\")]\n",
    "        timeSubstring = timeSubstring[:10]\n",
    "        if int(timeSubstring) not in sceneTimes:\n",
    "            sceneTimes.append(int(timeSubstring))\n",
    "            endTime = int(timeSubstring)\n",
    "    \n",
    "    if \"INMOTION:\" in str(line):\n",
    "        inMotion = True\n",
    "        \n",
    "    if \"STARTED:\" in str(line):\n",
    "        startTime = int(timeSubstring)\n",
    "        \n",
    "index+=1\n",
    "while index < len(logList):\n",
    "    line = logList[index]\n",
    "    index+=1\n",
    "    if (line[0] == ord('>')):\n",
    "        line = line[1:]\n",
    "    \n",
    "    if \"STOPPED:\" in str(line):\n",
    "        if inMotion:\n",
    "            inMotion = False\n",
    "        \n",
    "    if \"time\" in str(line) and not inMotion:\n",
    "        fullLine = str(line)\n",
    "        timeSubstring = fullLine[fullLine.index(\"time\"):]\n",
    "        if \":\" not in timeSubstring:\n",
    "            break;\n",
    "        timeSubstring = timeSubstring[timeSubstring.index(\":\") + 2:]\n",
    "        if \"}\" in timeSubstring:\n",
    "            timeSubstring = timeSubstring[0:timeSubstring.index(\"}\")]\n",
    "        if \",\" in timeSubstring:\n",
    "            timeSubstring = timeSubstring[:timeSubstring.index(\",\")]\n",
    "        timeSubstring = timeSubstring[:10]\n",
    "        if int(timeSubstring) not in sceneTimes:\n",
    "            sceneTimes.append(int(timeSubstring))   \n",
    "            endTime = int(timeSubstring)\n",
    "    if \"INMOTION:\" in str(line):\n",
    "        inMotion = True\n",
    "\n",
    "#print(sceneTimes)\n",
    "#print(\"start time:\\t\",startTime)\n",
    "#print(\"end time:\\t\",endTime)"
   ]
  },
  {
   "cell_type": "code",
   "execution_count": 28,
   "metadata": {},
   "outputs": [],
   "source": [
    "sceneShift = []\n",
    "for time in sceneTimes:\n",
    "    sceneShift.append(time-startTime)"
   ]
  },
  {
   "cell_type": "code",
   "execution_count": 27,
   "metadata": {},
   "outputs": [
    {
     "data": {
      "image/png": "[encoded data removed]",
      "text/plain": [
       "<Figure size 432x288 with 1 Axes>"
      ]
     },
     "metadata": {},
     "output_type": "display_data"
    }
   ],
   "source": [
    "plt.figure()\n",
    "plt.hlines(1,1,endTime-startTime)\n",
    "plt.eventplot(sceneShift,orientation='horizontal')\n",
    "plt.axis('off')\n",
    "plt.show()"
   ]
  },
  {
   "cell_type": "code",
   "execution_count": null,
   "metadata": {},
   "outputs": [],
   "source": [
    "frame = camhd.get_frame(movlink, 2640, 'rgb24')\n",
    "fig, ax = plt.subplots()\n",
    "im1 = ax.imshow(frame)"
   ]
  }
 ],
 "metadata": {
  "kernelspec": {
   "display_name": "Python [conda root]",
   "language": "python",
   "name": "conda-root-py"
  },
  "language_info": {
   "codemirror_mode": {
    "name": "ipython",
    "version": 3
   },
   "file_extension": ".py",
   "mimetype": "text/x-python",
   "name": "python",
   "nbconvert_exporter": "python",
   "pygments_lexer": "ipython3",
   "version": "3.6.4"
  }
 },
 "nbformat": 4,
 "nbformat_minor": 2
}
