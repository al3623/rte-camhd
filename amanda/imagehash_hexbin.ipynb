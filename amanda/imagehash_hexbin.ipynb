{
 "cells": [
  {
   "cell_type": "code",
   "execution_count": 1,
   "metadata": {},
   "outputs": [],
   "source": [
    "import PIL\n",
    "from PIL import Image\n",
    "import imagehash\n",
    "\n",
    "import pycamhd.pycamhd as camhd\n",
    "import numpy as np\n",
    "import matplotlib.pyplot as plt\n",
    "import pandas as pd       \n",
    "\n",
    "def diff_letters(a,b):\n",
    "    if (len(a) != len(b)):\n",
    "        return -1\n",
    "    else:\n",
    "        return sum ( a[i] != b[i] for i in range(len(a)) )\n",
    "\n",
    "dbcamhd = (pd.read_json('dbcamhd.json', orient=\"records\", lines=True)).set_index(\"filename\", drop = False)\n",
    "dbcamhd.tail()  \n",
    "\n",
    "fileIDs = []\n",
    "avgHash = []\n",
    "dHash = []\n",
    "pHash = []\n",
    "wHash = []"
   ]
  },
  {
   "cell_type": "code",
   "execution_count": 2,
   "metadata": {},
   "outputs": [],
   "source": [
    "from dask import delayed, compute\n",
    "\n",
    "@delayed\n",
    "def delayed_get_frame(filename, frame_number):\n",
    "    frame = camhd.get_frame(filename, frame_number)\n",
    "    return Image.fromarray(frame)\n",
    "\n",
    "@delayed\n",
    "def delayed_average_hash(image):\n",
    "    return imagehash.average_hash(image)\n",
    "\n",
    "@delayed\n",
    "def delayed_phash(image):\n",
    "    return imagehash.phash(image)\n",
    "\n",
    "@delayed\n",
    "def delayed_dhash(image):\n",
    "    return imagehash.dhash(image)\n",
    "\n",
    "@delayed\n",
    "def delayed_whash(image):\n",
    "    return imagehash.whash(image)"
   ]
  },
  {
   "cell_type": "code",
   "execution_count": 16,
   "metadata": {},
   "outputs": [
    {
     "data": {
      "text/plain": [
       "1"
      ]
     },
     "execution_count": 16,
     "metadata": {},
     "output_type": "execute_result"
    }
   ],
   "source": [
    "filenames = list(dbcamhd.filename[(dbcamhd.frame_count > 2000) & (dbcamhd.frame_count < 30000) & (dbcamhd.deployment == 3)])\n",
    "len(filenames)"
   ]
  },
  {
   "cell_type": "code",
   "execution_count": 4,
   "metadata": {},
   "outputs": [],
   "source": [
    "for filename in filenames[0:1]:\n",
    "    frameTotal = dbcamhd.frame_count[filename]\n",
    "    #print(frameTotal)\n",
    "    timestamp = dbcamhd.timestamp[filename]\n",
    "    frames =  range(0,frameTotal,10)\n",
    "    #print(frames)\n",
    "    \n",
    "    for i in frames:\n",
    "        ID = timestamp +  i\n",
    "        im = delayed_get_frame(filename, i)\n",
    "        #avg = delayed_average_hash(im)\n",
    "        #p = delayed_phash(im)\n",
    "        #d = delayed_dhash(im)\n",
    "        w = delayed_whash(im)\n",
    "        \n",
    "        #avgHash.append(avg)\n",
    "        #pHash.append(p)\n",
    "        #dHash.append(d)\n",
    "        \n",
    "        wHash.append(w.hash.flatten())\n",
    "        #wHash.append(w.hash)"
   ]
  },
  {
   "cell_type": "code",
   "execution_count": null,
   "metadata": {},
   "outputs": [],
   "source": [
    "from dask_kubernetes import KubeCluster\n",
    "from dask.distributed import Client\n",
    "\n",
    "cluster = KubeCluster();\n",
    "cluster.scale(30)"
   ]
  },
  {
   "cell_type": "code",
   "execution_count": 6,
   "metadata": {},
   "outputs": [
    {
     "data": {
      "application/vnd.jupyter.widget-view+json": {
       "model_id": "f56afcb63e0447dea3c1f6d5158eaee2",
       "version_major": 2,
       "version_minor": 0
      },
      "text/plain": [
       "VBox(children=(HTML(value='<b>Dashboard:</b> <a href=\"/user/al3623/proxy/8787/status\" target=\"_blank\">/user/al…"
      ]
     },
     "metadata": {},
     "output_type": "display_data"
    }
   ],
   "source": [
    "cluster"
   ]
  },
  {
   "cell_type": "code",
   "execution_count": 7,
   "metadata": {},
   "outputs": [
    {
     "data": {
      "text/html": [
       "<table style=\"border: 2px solid white;\">\n",
       "<tr>\n",
       "<td style=\"vertical-align: top; border: 0px solid white\">\n",
       "<h3>Client</h3>\n",
       "<ul>\n",
       "  <li><b>Scheduler: </b>tcp://10.244.28.25:34931\n",
       "  <li><b>Dashboard: </b><a href='/user/al3623/proxy/8787/status' target='_blank'>/user/al3623/proxy/8787/status</a>\n",
       "</ul>\n",
       "</td>\n",
       "<td style=\"vertical-align: top; border: 0px solid white\">\n",
       "<h3>Cluster</h3>\n",
       "<ul>\n",
       "  <li><b>Workers: </b>30</li>\n",
       "  <li><b>Cores: </b>60</li>\n",
       "  <li><b>Memory: </b>120.00 GB</li>\n",
       "</ul>\n",
       "</td>\n",
       "</tr>\n",
       "</table>"
      ],
      "text/plain": [
       "<Client: scheduler='tcp://10.244.28.25:34931' processes=30 cores=60>"
      ]
     },
     "execution_count": 7,
     "metadata": {},
     "output_type": "execute_result"
    }
   ],
   "source": [
    "client = Client(cluster)\n",
    "client"
   ]
  },
  {
   "cell_type": "code",
   "execution_count": 8,
   "metadata": {},
   "outputs": [
    {
     "name": "stdout",
     "output_type": "stream",
     "text": [
      "CPU times: user 41.6 s, sys: 4.67 s, total: 46.3 s\n",
      "Wall time: 1min 42s\n"
     ]
    }
   ],
   "source": [
    "%%time\n",
    "wHashList = compute(*wHash)"
   ]
  },
  {
   "cell_type": "code",
   "execution_count": 12,
   "metadata": {},
   "outputs": [
    {
     "name": "stdout",
     "output_type": "stream",
     "text": [
      "(2518, 64)\n"
     ]
    }
   ],
   "source": [
    "npwHash = np.array(wHashList)\n",
    "print(npwHash.shape)"
   ]
  },
  {
   "cell_type": "code",
   "execution_count": 21,
   "metadata": {},
   "outputs": [
    {
     "data": {
      "image/png": "[encoded data removed]",
      "text/plain": [
       "<Figure size 432x288 with 1 Axes>"
      ]
     },
     "metadata": {},
     "output_type": "display_data"
    }
   ],
   "source": [
    "plt.ylabel('Frame Number')\n",
    "plt.xlabel('Wavelet Hash Bit')\n",
    "plt.imshow(npwHash,cmap=\"Greys\",aspect=\"auto\")\n",
    "plt.savefig(\"bin_im_\" + str(timestamp) + \".png\")"
   ]
  },
  {
   "cell_type": "code",
   "execution_count": null,
   "metadata": {},
   "outputs": [],
   "source": [
    "plt.rc('font', size=12)\n",
    "fig, ax = plt.subplots();\n",
    "fig.set_size_inches(14, 6);\n",
    "fig.frameon = False\n",
    "hb = ax.hexbin(frames, wHashList[1135:], vmin=0, vmax=1, bins='log', linewidths=0.25,\n",
    "  gridsize=(225,4500), mincnt=1, cmap=plt.cm.BuPu)\n",
    "fig.colorbar(hb)\n",
    "ax.set_ylim([0, 8000])\n",
    "ax.set_xlim([frames[0],frames[-1]])\n",
    "ax.yaxis.grid(True)\n",
    "ax.xaxis.grid(True)"
   ]
  },
  {
   "cell_type": "code",
   "execution_count": null,
   "metadata": {},
   "outputs": [],
   "source": []
  }
 ],
 "metadata": {
  "kernelspec": {
   "display_name": "Python [conda root]",
   "language": "python",
   "name": "conda-root-py"
  },
  "language_info": {
   "codemirror_mode": {
    "name": "ipython",
    "version": 3
   },
   "file_extension": ".py",
   "mimetype": "text/x-python",
   "name": "python",
   "nbconvert_exporter": "python",
   "pygments_lexer": "ipython3",
   "version": "3.6.4"
  }
 },
 "nbformat": 4,
 "nbformat_minor": 2
}
