{
 "cells": [
  {
   "cell_type": "code",
   "execution_count": 9,
   "metadata": {},
   "outputs": [],
   "source": [
    "import PIL\n",
    "from PIL import Image\n",
    "import imagehash\n",
    "\n",
    "import pycamhd.pycamhd as camhd\n",
    "import numpy as np\n",
    "import matplotlib.pyplot as plt\n",
    "import pandas as pd       \n",
    "\n",
    "def diff_letters(a,b):\n",
    "    if (len(a) != len(b)):\n",
    "        return -1\n",
    "    else:\n",
    "        return sum ( a[i] != b[i] for i in range(len(a)) )\n",
    "\n",
    "dbcamhd = (pd.read_json('dbcamhd.json', orient=\"records\", lines=True)).set_index(\"filename\", drop = False)\n",
    "dbcamhd.tail()  \n",
    "\n",
    "fileIDs = []\n",
    "avgHash = []\n",
    "dHash = []\n",
    "pHash = []\n",
    "wHash = []"
   ]
  },
  {
   "cell_type": "code",
   "execution_count": 10,
   "metadata": {},
   "outputs": [],
   "source": [
    "from dask import delayed, compute\n",
    "\n",
    "@delayed\n",
    "def delayed_get_frame(filename, frame_number):\n",
    "    frame = camhd.get_frame(filename, frame_number)\n",
    "    return Image.fromarray(frame)\n",
    "\n",
    "@delayed\n",
    "def delayed_average_hash(image):\n",
    "    return imagehash.average_hash(image)\n",
    "\n",
    "@delayed\n",
    "def delayed_phash(image):\n",
    "    return imagehash.phash(image)\n",
    "\n",
    "@delayed\n",
    "def delayed_dhash(image):\n",
    "    return imagehash.dhash(image)\n",
    "\n",
    "@delayed\n",
    "def delayed_whash(image):\n",
    "    return imagehash.whash(image)"
   ]
  },
  {
   "cell_type": "code",
   "execution_count": 11,
   "metadata": {},
   "outputs": [],
   "source": [
    "for filename in dbcamhd.filename:\n",
    "    frameTotal = dbcamhd.frame_count[filename]\n",
    "    timestamp = dbcamhd.timestamp[filename]\n",
    "    n_images = 2\n",
    "    frames =  np.linspace(750,frameTotal-6000, n_images, dtype=np.int64())\n",
    "    \n",
    "    for i in frames:\n",
    "        ID = timestamp + i\n",
    "        im = delayed_get_frame(filename, i)\n",
    "        #avg = delayed_average_hash(im)\n",
    "        #p = delayed_phash(im)\n",
    "        #d = delayed_dhash(im)\n",
    "        w = delayed_whash(im)\n",
    "        \n",
    "        #avgHash.append(avg)\n",
    "        #pHash.append(p)\n",
    "        #dHash.append(d)\n",
    "        wHash.append(w)"
   ]
  },
  {
   "cell_type": "code",
   "execution_count": 14,
   "metadata": {},
   "outputs": [],
   "source": [
    "from dask_kubernetes import KubeCluster\n",
    "from dask.distributed import Client\n",
    "\n",
    "cluster = KubeCluster(n_workers=70)\n",
    "\n",
    "client = Client(cluster)"
   ]
  },
  {
   "cell_type": "code",
   "execution_count": null,
   "metadata": {},
   "outputs": [],
   "source": [
    "wHashList = compute(*wHash)"
   ]
  },
  {
   "cell_type": "code",
   "execution_count": null,
   "metadata": {},
   "outputs": [],
   "source": [
    "plt.rc('font', size=12)\n",
    "fig, ax = plt.subplots();\n",
    "fig.set_size_inches(14, 6);\n",
    "fig.frameon = False\n",
    "hb = ax.hexbin(timestamp, wHash, vmin=0, vmax=1, bins='log', linewidths=0.25,\n",
    "  gridsize=(225,4500), mincnt=1, cmap=plt.cm.BuPu)\n",
    "fig.colorbar(hb)\n",
    "ax.set_ylim([0, 8000])\n",
    "ax.set_xlim([timestamp[0],timestamp[-1]])\n",
    "ax.yaxis.grid(True)\n",
    "ax.xaxis.grid(True)"
   ]
  }
 ],
 "metadata": {
  "kernelspec": {
   "display_name": "Python [conda root]",
   "language": "python",
   "name": "conda-root-py"
  },
  "language_info": {
   "codemirror_mode": {
    "name": "ipython",
    "version": 3
   },
   "file_extension": ".py",
   "mimetype": "text/x-python",
   "name": "python",
   "nbconvert_exporter": "python",
   "pygments_lexer": "ipython3",
   "version": "3.6.4"
  }
 },
 "nbformat": 4,
 "nbformat_minor": 2
}
