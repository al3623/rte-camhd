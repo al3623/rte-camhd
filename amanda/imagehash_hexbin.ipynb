{
 "cells": [
  {
   "cell_type": "code",
   "execution_count": 2,
   "metadata": {},
   "outputs": [],
   "source": [
    "import PIL\n",
    "from PIL import Image\n",
    "import imagehash\n",
    "\n",
    "import pycamhd.pycamhd as camhd\n",
    "import numpy as np\n",
    "import matplotlib.pyplot as plt\n",
    "import xarray as xar\n",
    "import urllib as url\n",
    "\n",
    "movLink = \"https://rawdata.oceanobservatories.org/files/RS03ASHS/PN03B/06-CAMHDA301/2016/07/29/CAMHDA301-20160729T000000Z.mov\"\n",
    "movAtom = camhd.get_moov_atom(movLink)\n",
    "frameTotal = camhd.get_frame_count(movLink, movAtom) \n",
    "frames = range(0,frameTotal,200)\n",
    "#print(frameTotal)                        \n",
    "\n",
    "def diff_letters(a,b):\n",
    "    if (len(a) != len(b)):\n",
    "        return -1\n",
    "    else:\n",
    "        return sum ( a[i] != b[i] for i in range(len(a)) )"
   ]
  },
  {
   "cell_type": "code",
   "execution_count": null,
   "metadata": {},
   "outputs": [],
   "source": [
    "files = camhd.get_file_list()"
   ]
  },
  {
   "cell_type": "code",
   "execution_count": null,
   "metadata": {},
   "outputs": [],
   "source": [
    "for filename in files:\n",
    "    movAtom = camhd.get_moov_atom(filename)\n",
    "    frameTotal = camhd.get_frame_count(movLink, movAtom) \n",
    "    frames = range(0,frameTotal,30)"
   ]
  }
 ],
 "metadata": {
  "kernelspec": {
   "display_name": "Python [conda root]",
   "language": "python",
   "name": "conda-root-py"
  },
  "language_info": {
   "codemirror_mode": {
    "name": "ipython",
    "version": 3
   },
   "file_extension": ".py",
   "mimetype": "text/x-python",
   "name": "python",
   "nbconvert_exporter": "python",
   "pygments_lexer": "ipython3",
   "version": "3.6.4"
  }
 },
 "nbformat": 4,
 "nbformat_minor": 2
}
