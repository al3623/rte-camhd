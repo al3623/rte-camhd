{
 "cells": [
  {
   "cell_type": "code",
   "execution_count": 3,
   "metadata": {},
   "outputs": [],
   "source": [
    "import PIL\n",
    "from PIL import Image\n",
    "import imagehash\n",
    "\n",
    "import pycamhd.pycamhd as camhd\n",
    "import numpy as np\n",
    "import matplotlib.pyplot as plt\n",
    "import xarray as xar\n",
    "import urllib as url                     \n",
    "\n",
    "def diff_letters(a,b):\n",
    "    if (len(a) != len(b)):\n",
    "        return -1\n",
    "    else:\n",
    "        return sum ( a[i] != b[i] for i in range(len(a)) )"
   ]
  },
  {
   "cell_type": "code",
   "execution_count": 2,
   "metadata": {},
   "outputs": [],
   "source": [
    "files = camhd.get_file_list()\n",
    "fileIDs = []\n",
    "avgHash = []\n",
    "dHash = []\n",
    "pHash = []\n",
    "wHash = []"
   ]
  },
  {
   "cell_type": "code",
   "execution_count": null,
   "metadata": {},
   "outputs": [],
   "source": [
    "for filename in files:\n",
    "    movAtom = camhd.get_moov_atom(filename)\n",
    "    frameTotal = camhd.get_frame_count(movLink, movAtom) \n",
    "    frames = range(0,frameTotal,30)\n",
    "    #frames every ~1 second\n",
    "    \n",
    "    for i in frames:\n",
    "        ID = get_timestamp(movAtom) + i\n",
    "        frame = camhd.get_frame(filename, i)\n",
    "        im = Image.fromarray(frame)\n",
    "        #avg = imagehash.average_hash(im)\n",
    "        #p = imagehash.phash(im)\n",
    "        #d = imagehash.dhash(im)\n",
    "        w = imagehash.whash(im)\n",
    "        \n",
    "        #avgHash.append(avg)\n",
    "        #pHash.append(p)\n",
    "        #dHash.append(d)\n",
    "        wHash.append(w)\n",
    "        "
   ]
  },
  {
   "cell_type": "code",
   "execution_count": null,
   "metadata": {},
   "outputs": [],
   "source": [
    "plt.rc('font', size=12)\n",
    "fig, ax = plt.subplots();\n",
    "fig.set_size_inches(14, 6);\n",
    "fig.frameon = False\n",
    "hb = ax.hexbin(timestamp, wHash, vmin=0, vmax=1, bins='log', linewidths=0.25,\n",
    "  gridsize=(225,4500), mincnt=1, cmap=plt.cm.BuPu)\n",
    "fig.colorbar(hb)\n",
    "ax.set_ylim([0, 8000])\n",
    "ax.set_xlim([timestamp[0],timestamp[-1]])\n",
    "ax.yaxis.grid(True)\n",
    "ax.xaxis.grid(True)"
   ]
  }
 ],
 "metadata": {
  "kernelspec": {
   "display_name": "Python [conda root]",
   "language": "python",
   "name": "conda-root-py"
  },
  "language_info": {
   "codemirror_mode": {
    "name": "ipython",
    "version": 3
   },
   "file_extension": ".py",
   "mimetype": "text/x-python",
   "name": "python",
   "nbconvert_exporter": "python",
   "pygments_lexer": "ipython3",
   "version": "3.6.4"
  }
 },
 "nbformat": 4,
 "nbformat_minor": 2
}
